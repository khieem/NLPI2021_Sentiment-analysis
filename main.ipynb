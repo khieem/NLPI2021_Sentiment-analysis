{
 "metadata": {
  "language_info": {
   "codemirror_mode": {
    "name": "ipython",
    "version": 3
   },
   "file_extension": ".py",
   "mimetype": "text/x-python",
   "name": "python",
   "nbconvert_exporter": "python",
   "pygments_lexer": "ipython3",
   "version": "3.8.6-final"
  },
  "orig_nbformat": 2,
  "kernelspec": {
   "name": "python3",
   "display_name": "Python 3"
  }
 },
 "nbformat": 4,
 "nbformat_minor": 2,
 "cells": [
  {
   "cell_type": "code",
   "execution_count": 10,
   "metadata": {},
   "outputs": [],
   "source": [
    "import torch\n",
    "import numpy as np\n",
    "import re\n",
    "from collections import Counter\n",
    "import nltk\n",
    "import matplotlib.pyplot as plt\n",
    "from torch.utils.data import DataLoader, TensorDataset\n",
    "from string import punctuation"
   ]
  },
  {
   "cell_type": "code",
   "execution_count": 11,
   "metadata": {},
   "outputs": [],
   "source": [
    "def read(path):\n",
    "    file = open(path, encoding='utf8')\n",
    "    lines = [line for line in file.readlines()]\n",
    "    file.close()\n",
    "    return lines"
   ]
  },
  {
   "cell_type": "code",
   "execution_count": 12,
   "metadata": {},
   "outputs": [],
   "source": [
    "train_negative = 'train_negative_tokenized.txt'\n",
    "train_neural = 'train_neutral_tokenized.txt'\n",
    "train_positive = 'train_neutral_tokenized.txt'"
   ]
  },
  {
   "cell_type": "code",
   "execution_count": 13,
   "metadata": {},
   "outputs": [],
   "source": [
    "negative = read(train_negative)\n",
    "neural = read(train_neural)\n",
    "positive = read(train_negative)"
   ]
  },
  {
   "cell_type": "code",
   "execution_count": 14,
   "metadata": {
    "tags": []
   },
   "outputs": [],
   "source": [
    "train_set = negative + neural + positive\n",
    "\n",
    "# bỏ những dòng trống\n",
    "train_set = [i for i in train_set if i != '\\n']\n",
    "size = len(train_set)\n",
    "\n",
    "# đưa tất cả về chữ thường \n",
    "for i in range(size):\n",
    "    train_set[i] = train_set[i].lower()\n",
    "\n",
    "# bỏ các ký tự unicode\n",
    "for i in range(size):\n",
    "    train_set[i] = train_set[i].replace('\\ufeff', '').replace('\\xa0', '').replace('\\u200e', '').replace('\\u200b', '').replace('\\n', '')\n",
    "\n",
    "# bỏ các chuỗi mặt cười\n",
    "for i in range(size):\n",
    "    train_set[i] = re.sub(r':(\\s*\\))+\\s', '', train_set[i])\n",
    "\n",
    "# bỏ các chuỗi '...'\n",
    "for i in range(size):\n",
    "    train_set[i] = re.sub(r':(\\s*\\))+\\s', '', train_set[i])\n"
   ]
  },
  {
   "cell_type": "code",
   "execution_count": 15,
   "metadata": {},
   "outputs": [],
   "source": [
    "vocab = Counter()\n",
    "\n",
    "for i, sentence in enumerate(train_set):\n",
    "    train_set[i] = []\n",
    "    for word in nltk.word_tokenize(sentence):  # Tokenizing the words\n",
    "        vocab.update([word]) # cập nhật số lần xuất hiện của word\n",
    "        train_set[i].append(word)"
   ]
  },
  {
   "cell_type": "code",
   "execution_count": 18,
   "metadata": {},
   "outputs": [],
   "source": [
    "for k in punctuation:\n",
    "    del vocab[k]"
   ]
  },
  {
   "cell_type": "code",
   "execution_count": 125,
   "metadata": {},
   "outputs": [],
   "source": [
    "# vocab = [k for k in vocab if k not in punctuation] # bỏ các dấu chấm câu"
   ]
  },
  {
   "cell_type": "code",
   "execution_count": 19,
   "metadata": {},
   "outputs": [],
   "source": [
    "vocab_ = sorted(vocab, key=vocab.get, reverse=True) # sắp xếp theo thứ tự tần suất xuất hiện giảm dần"
   ]
  },
  {
   "cell_type": "code",
   "execution_count": 21,
   "metadata": {},
   "outputs": [],
   "source": [
    "w2i = {w:i+1 for i,w in enumerate(vocab)} # w2i[word] ->  mức độ xuất hiện word trong corpus\n",
    "# (1 là xuất hiện nhiều nhất, số 0 để padding)\n",
    "i2w = {i+1:w for i,w in enumerate(vocab)}"
   ]
  },
  {
   "cell_type": "code",
   "execution_count": 24,
   "metadata": {},
   "outputs": [],
   "source": [
    "train_set_vct = np.empty_like(train_set)\n",
    "for i, sentence in enumerate(train_set):\n",
    "    train_set_vct[i] = [w2i[word] if word in w2i else 0 for word in sentence] # thay từ bằng w2i của từ, nếu không trong corpus -> 0"
   ]
  },
  {
   "cell_type": "code",
   "execution_count": 25,
   "metadata": {
    "tags": []
   },
   "outputs": [],
   "source": [
    "count = np.zeros(len(train_set_vct))\n",
    "for s in train_set_vct:\n",
    "    count[len(s)] += 1"
   ]
  },
  {
   "cell_type": "code",
   "execution_count": 26,
   "metadata": {},
   "outputs": [
    {
     "output_type": "display_data",
     "data": {
      "text/plain": "<Figure size 432x288 with 1 Axes>",
      "image/svg+xml": "<?xml version=\"1.0\" encoding=\"utf-8\" standalone=\"no\"?>\n<!DOCTYPE svg PUBLIC \"-//W3C//DTD SVG 1.1//EN\"\n  \"http://www.w3.org/Graphics/SVG/1.1/DTD/svg11.dtd\">\n<!-- Created with matplotlib (https://matplotlib.org/) -->\n<svg height=\"248.518125pt\" version=\"1.1\" viewBox=\"0 0 375.2875 248.518125\" width=\"375.2875pt\" xmlns=\"http://www.w3.org/2000/svg\" xmlns:xlink=\"http://www.w3.org/1999/xlink\">\n <metadata>\n  <rdf:RDF xmlns:cc=\"http://creativecommons.org/ns#\" xmlns:dc=\"http://purl.org/dc/elements/1.1/\" xmlns:rdf=\"http://www.w3.org/1999/02/22-rdf-syntax-ns#\">\n   <cc:Work>\n    <dc:type rdf:resource=\"http://purl.org/dc/dcmitype/StillImage\"/>\n    <dc:date>2020-12-26T15:28:18.267089</dc:date>\n    <dc:format>image/svg+xml</dc:format>\n    <dc:creator>\n     <cc:Agent>\n      <dc:title>Matplotlib v3.3.2, https://matplotlib.org/</dc:title>\n     </cc:Agent>\n    </dc:creator>\n   </cc:Work>\n  </rdf:RDF>\n </metadata>\n <defs>\n  <style type=\"text/css\">*{stroke-linecap:butt;stroke-linejoin:round;}</style>\n </defs>\n <g id=\"figure_1\">\n  <g id=\"patch_1\">\n   <path d=\"M 0 248.518125 \nL 375.2875 248.518125 \nL 375.2875 0 \nL 0 0 \nz\n\" style=\"fill:none;\"/>\n  </g>\n  <g id=\"axes_1\">\n   <g id=\"patch_2\">\n    <path d=\"M 33.2875 224.64 \nL 368.0875 224.64 \nL 368.0875 7.2 \nL 33.2875 7.2 \nz\n\" style=\"fill:#ffffff;\"/>\n   </g>\n   <g id=\"matplotlib.axis_1\">\n    <g id=\"xtick_1\">\n     <g id=\"line2d_1\">\n      <defs>\n       <path d=\"M 0 0 \nL 0 3.5 \n\" id=\"m081a3321f9\" style=\"stroke:#000000;stroke-width:0.8;\"/>\n      </defs>\n      <g>\n       <use style=\"stroke:#000000;stroke-width:0.8;\" x=\"48.505682\" xlink:href=\"#m081a3321f9\" y=\"224.64\"/>\n      </g>\n     </g>\n     <g id=\"text_1\">\n      <!-- 0 -->\n      <g transform=\"translate(45.324432 239.238437)scale(0.1 -0.1)\">\n       <defs>\n        <path d=\"M 31.78125 66.40625 \nQ 24.171875 66.40625 20.328125 58.90625 \nQ 16.5 51.421875 16.5 36.375 \nQ 16.5 21.390625 20.328125 13.890625 \nQ 24.171875 6.390625 31.78125 6.390625 \nQ 39.453125 6.390625 43.28125 13.890625 \nQ 47.125 21.390625 47.125 36.375 \nQ 47.125 51.421875 43.28125 58.90625 \nQ 39.453125 66.40625 31.78125 66.40625 \nz\nM 31.78125 74.21875 \nQ 44.046875 74.21875 50.515625 64.515625 \nQ 56.984375 54.828125 56.984375 36.375 \nQ 56.984375 17.96875 50.515625 8.265625 \nQ 44.046875 -1.421875 31.78125 -1.421875 \nQ 19.53125 -1.421875 13.0625 8.265625 \nQ 6.59375 17.96875 6.59375 36.375 \nQ 6.59375 54.828125 13.0625 64.515625 \nQ 19.53125 74.21875 31.78125 74.21875 \nz\n\" id=\"DejaVuSans-48\"/>\n       </defs>\n       <use xlink:href=\"#DejaVuSans-48\"/>\n      </g>\n     </g>\n    </g>\n    <g id=\"xtick_2\">\n     <g id=\"line2d_2\">\n      <g>\n       <use style=\"stroke:#000000;stroke-width:0.8;\" x=\"108.19653\" xlink:href=\"#m081a3321f9\" y=\"224.64\"/>\n      </g>\n     </g>\n     <g id=\"text_2\">\n      <!-- 1000 -->\n      <g transform=\"translate(95.47153 239.238437)scale(0.1 -0.1)\">\n       <defs>\n        <path d=\"M 12.40625 8.296875 \nL 28.515625 8.296875 \nL 28.515625 63.921875 \nL 10.984375 60.40625 \nL 10.984375 69.390625 \nL 28.421875 72.90625 \nL 38.28125 72.90625 \nL 38.28125 8.296875 \nL 54.390625 8.296875 \nL 54.390625 0 \nL 12.40625 0 \nz\n\" id=\"DejaVuSans-49\"/>\n       </defs>\n       <use xlink:href=\"#DejaVuSans-49\"/>\n       <use x=\"63.623047\" xlink:href=\"#DejaVuSans-48\"/>\n       <use x=\"127.246094\" xlink:href=\"#DejaVuSans-48\"/>\n       <use x=\"190.869141\" xlink:href=\"#DejaVuSans-48\"/>\n      </g>\n     </g>\n    </g>\n    <g id=\"xtick_3\">\n     <g id=\"line2d_3\">\n      <g>\n       <use style=\"stroke:#000000;stroke-width:0.8;\" x=\"167.887379\" xlink:href=\"#m081a3321f9\" y=\"224.64\"/>\n      </g>\n     </g>\n     <g id=\"text_3\">\n      <!-- 2000 -->\n      <g transform=\"translate(155.162379 239.238437)scale(0.1 -0.1)\">\n       <defs>\n        <path d=\"M 19.1875 8.296875 \nL 53.609375 8.296875 \nL 53.609375 0 \nL 7.328125 0 \nL 7.328125 8.296875 \nQ 12.9375 14.109375 22.625 23.890625 \nQ 32.328125 33.6875 34.8125 36.53125 \nQ 39.546875 41.84375 41.421875 45.53125 \nQ 43.3125 49.21875 43.3125 52.78125 \nQ 43.3125 58.59375 39.234375 62.25 \nQ 35.15625 65.921875 28.609375 65.921875 \nQ 23.96875 65.921875 18.8125 64.3125 \nQ 13.671875 62.703125 7.8125 59.421875 \nL 7.8125 69.390625 \nQ 13.765625 71.78125 18.9375 73 \nQ 24.125 74.21875 28.421875 74.21875 \nQ 39.75 74.21875 46.484375 68.546875 \nQ 53.21875 62.890625 53.21875 53.421875 \nQ 53.21875 48.921875 51.53125 44.890625 \nQ 49.859375 40.875 45.40625 35.40625 \nQ 44.1875 33.984375 37.640625 27.21875 \nQ 31.109375 20.453125 19.1875 8.296875 \nz\n\" id=\"DejaVuSans-50\"/>\n       </defs>\n       <use xlink:href=\"#DejaVuSans-50\"/>\n       <use x=\"63.623047\" xlink:href=\"#DejaVuSans-48\"/>\n       <use x=\"127.246094\" xlink:href=\"#DejaVuSans-48\"/>\n       <use x=\"190.869141\" xlink:href=\"#DejaVuSans-48\"/>\n      </g>\n     </g>\n    </g>\n    <g id=\"xtick_4\">\n     <g id=\"line2d_4\">\n      <g>\n       <use style=\"stroke:#000000;stroke-width:0.8;\" x=\"227.578227\" xlink:href=\"#m081a3321f9\" y=\"224.64\"/>\n      </g>\n     </g>\n     <g id=\"text_4\">\n      <!-- 3000 -->\n      <g transform=\"translate(214.853227 239.238437)scale(0.1 -0.1)\">\n       <defs>\n        <path d=\"M 40.578125 39.3125 \nQ 47.65625 37.796875 51.625 33 \nQ 55.609375 28.21875 55.609375 21.1875 \nQ 55.609375 10.40625 48.1875 4.484375 \nQ 40.765625 -1.421875 27.09375 -1.421875 \nQ 22.515625 -1.421875 17.65625 -0.515625 \nQ 12.796875 0.390625 7.625 2.203125 \nL 7.625 11.71875 \nQ 11.71875 9.328125 16.59375 8.109375 \nQ 21.484375 6.890625 26.8125 6.890625 \nQ 36.078125 6.890625 40.9375 10.546875 \nQ 45.796875 14.203125 45.796875 21.1875 \nQ 45.796875 27.640625 41.28125 31.265625 \nQ 36.765625 34.90625 28.71875 34.90625 \nL 20.21875 34.90625 \nL 20.21875 43.015625 \nL 29.109375 43.015625 \nQ 36.375 43.015625 40.234375 45.921875 \nQ 44.09375 48.828125 44.09375 54.296875 \nQ 44.09375 59.90625 40.109375 62.90625 \nQ 36.140625 65.921875 28.71875 65.921875 \nQ 24.65625 65.921875 20.015625 65.03125 \nQ 15.375 64.15625 9.8125 62.3125 \nL 9.8125 71.09375 \nQ 15.4375 72.65625 20.34375 73.4375 \nQ 25.25 74.21875 29.59375 74.21875 \nQ 40.828125 74.21875 47.359375 69.109375 \nQ 53.90625 64.015625 53.90625 55.328125 \nQ 53.90625 49.265625 50.4375 45.09375 \nQ 46.96875 40.921875 40.578125 39.3125 \nz\n\" id=\"DejaVuSans-51\"/>\n       </defs>\n       <use xlink:href=\"#DejaVuSans-51\"/>\n       <use x=\"63.623047\" xlink:href=\"#DejaVuSans-48\"/>\n       <use x=\"127.246094\" xlink:href=\"#DejaVuSans-48\"/>\n       <use x=\"190.869141\" xlink:href=\"#DejaVuSans-48\"/>\n      </g>\n     </g>\n    </g>\n    <g id=\"xtick_5\">\n     <g id=\"line2d_5\">\n      <g>\n       <use style=\"stroke:#000000;stroke-width:0.8;\" x=\"287.269076\" xlink:href=\"#m081a3321f9\" y=\"224.64\"/>\n      </g>\n     </g>\n     <g id=\"text_5\">\n      <!-- 4000 -->\n      <g transform=\"translate(274.544076 239.238437)scale(0.1 -0.1)\">\n       <defs>\n        <path d=\"M 37.796875 64.3125 \nL 12.890625 25.390625 \nL 37.796875 25.390625 \nz\nM 35.203125 72.90625 \nL 47.609375 72.90625 \nL 47.609375 25.390625 \nL 58.015625 25.390625 \nL 58.015625 17.1875 \nL 47.609375 17.1875 \nL 47.609375 0 \nL 37.796875 0 \nL 37.796875 17.1875 \nL 4.890625 17.1875 \nL 4.890625 26.703125 \nz\n\" id=\"DejaVuSans-52\"/>\n       </defs>\n       <use xlink:href=\"#DejaVuSans-52\"/>\n       <use x=\"63.623047\" xlink:href=\"#DejaVuSans-48\"/>\n       <use x=\"127.246094\" xlink:href=\"#DejaVuSans-48\"/>\n       <use x=\"190.869141\" xlink:href=\"#DejaVuSans-48\"/>\n      </g>\n     </g>\n    </g>\n    <g id=\"xtick_6\">\n     <g id=\"line2d_6\">\n      <g>\n       <use style=\"stroke:#000000;stroke-width:0.8;\" x=\"346.959924\" xlink:href=\"#m081a3321f9\" y=\"224.64\"/>\n      </g>\n     </g>\n     <g id=\"text_6\">\n      <!-- 5000 -->\n      <g transform=\"translate(334.234924 239.238437)scale(0.1 -0.1)\">\n       <defs>\n        <path d=\"M 10.796875 72.90625 \nL 49.515625 72.90625 \nL 49.515625 64.59375 \nL 19.828125 64.59375 \nL 19.828125 46.734375 \nQ 21.96875 47.46875 24.109375 47.828125 \nQ 26.265625 48.1875 28.421875 48.1875 \nQ 40.625 48.1875 47.75 41.5 \nQ 54.890625 34.8125 54.890625 23.390625 \nQ 54.890625 11.625 47.5625 5.09375 \nQ 40.234375 -1.421875 26.90625 -1.421875 \nQ 22.3125 -1.421875 17.546875 -0.640625 \nQ 12.796875 0.140625 7.71875 1.703125 \nL 7.71875 11.625 \nQ 12.109375 9.234375 16.796875 8.0625 \nQ 21.484375 6.890625 26.703125 6.890625 \nQ 35.15625 6.890625 40.078125 11.328125 \nQ 45.015625 15.765625 45.015625 23.390625 \nQ 45.015625 31 40.078125 35.4375 \nQ 35.15625 39.890625 26.703125 39.890625 \nQ 22.75 39.890625 18.8125 39.015625 \nQ 14.890625 38.140625 10.796875 36.28125 \nz\n\" id=\"DejaVuSans-53\"/>\n       </defs>\n       <use xlink:href=\"#DejaVuSans-53\"/>\n       <use x=\"63.623047\" xlink:href=\"#DejaVuSans-48\"/>\n       <use x=\"127.246094\" xlink:href=\"#DejaVuSans-48\"/>\n       <use x=\"190.869141\" xlink:href=\"#DejaVuSans-48\"/>\n      </g>\n     </g>\n    </g>\n   </g>\n   <g id=\"matplotlib.axis_2\">\n    <g id=\"ytick_1\">\n     <g id=\"line2d_7\">\n      <defs>\n       <path d=\"M 0 0 \nL -3.5 0 \n\" id=\"mc9ce1cbb60\" style=\"stroke:#000000;stroke-width:0.8;\"/>\n      </defs>\n      <g>\n       <use style=\"stroke:#000000;stroke-width:0.8;\" x=\"33.2875\" xlink:href=\"#mc9ce1cbb60\" y=\"214.756364\"/>\n      </g>\n     </g>\n     <g id=\"text_7\">\n      <!-- 0 -->\n      <g transform=\"translate(19.925 218.555582)scale(0.1 -0.1)\">\n       <use xlink:href=\"#DejaVuSans-48\"/>\n      </g>\n     </g>\n    </g>\n    <g id=\"ytick_2\">\n     <g id=\"line2d_8\">\n      <g>\n       <use style=\"stroke:#000000;stroke-width:0.8;\" x=\"33.2875\" xlink:href=\"#mc9ce1cbb60\" y=\"168.998788\"/>\n      </g>\n     </g>\n     <g id=\"text_8\">\n      <!-- 50 -->\n      <g transform=\"translate(13.5625 172.798007)scale(0.1 -0.1)\">\n       <use xlink:href=\"#DejaVuSans-53\"/>\n       <use x=\"63.623047\" xlink:href=\"#DejaVuSans-48\"/>\n      </g>\n     </g>\n    </g>\n    <g id=\"ytick_3\">\n     <g id=\"line2d_9\">\n      <g>\n       <use style=\"stroke:#000000;stroke-width:0.8;\" x=\"33.2875\" xlink:href=\"#mc9ce1cbb60\" y=\"123.241212\"/>\n      </g>\n     </g>\n     <g id=\"text_9\">\n      <!-- 100 -->\n      <g transform=\"translate(7.2 127.040431)scale(0.1 -0.1)\">\n       <use xlink:href=\"#DejaVuSans-49\"/>\n       <use x=\"63.623047\" xlink:href=\"#DejaVuSans-48\"/>\n       <use x=\"127.246094\" xlink:href=\"#DejaVuSans-48\"/>\n      </g>\n     </g>\n    </g>\n    <g id=\"ytick_4\">\n     <g id=\"line2d_10\">\n      <g>\n       <use style=\"stroke:#000000;stroke-width:0.8;\" x=\"33.2875\" xlink:href=\"#mc9ce1cbb60\" y=\"77.483636\"/>\n      </g>\n     </g>\n     <g id=\"text_10\">\n      <!-- 150 -->\n      <g transform=\"translate(7.2 81.282855)scale(0.1 -0.1)\">\n       <use xlink:href=\"#DejaVuSans-49\"/>\n       <use x=\"63.623047\" xlink:href=\"#DejaVuSans-53\"/>\n       <use x=\"127.246094\" xlink:href=\"#DejaVuSans-48\"/>\n      </g>\n     </g>\n    </g>\n    <g id=\"ytick_5\">\n     <g id=\"line2d_11\">\n      <g>\n       <use style=\"stroke:#000000;stroke-width:0.8;\" x=\"33.2875\" xlink:href=\"#mc9ce1cbb60\" y=\"31.726061\"/>\n      </g>\n     </g>\n     <g id=\"text_11\">\n      <!-- 200 -->\n      <g transform=\"translate(7.2 35.525279)scale(0.1 -0.1)\">\n       <use xlink:href=\"#DejaVuSans-50\"/>\n       <use x=\"63.623047\" xlink:href=\"#DejaVuSans-48\"/>\n       <use x=\"127.246094\" xlink:href=\"#DejaVuSans-48\"/>\n      </g>\n     </g>\n    </g>\n   </g>\n   <g id=\"line2d_12\">\n    <path clip-path=\"url(#p6f4bc0cd25)\" d=\"M 48.505682 213.841212 \nL 48.565373 202.859394 \nL 48.804136 98.532121 \nL 48.983209 46.368485 \nL 49.10259 62.841212 \nL 49.162281 51.859394 \nL 49.221972 17.083636 \nL 49.401045 95.786667 \nL 49.460735 70.162424 \nL 49.520426 90.295758 \nL 49.580117 71.077576 \nL 49.639808 116.835152 \nL 49.699499 97.61697 \nL 49.75919 109.513939 \nL 49.81888 97.61697 \nL 49.938262 140.629091 \nL 49.997953 130.562424 \nL 50.177026 137.883636 \nL 50.236716 137.883636 \nL 50.415789 166.253333 \nL 50.47548 149.780606 \nL 50.535171 179.065455 \nL 50.594862 168.083636 \nL 50.714243 184.556364 \nL 50.893316 163.507879 \nL 50.953007 188.21697 \nL 51.012697 184.556364 \nL 51.072388 190.962424 \nL 51.251461 178.150303 \nL 51.311152 192.792727 \nL 51.370843 191.877576 \nL 51.430533 173.574545 \nL 51.609606 195.538182 \nL 51.669297 200.113939 \nL 51.728988 191.877576 \nL 51.90806 201.029091 \nL 51.967751 203.774545 \nL 52.087133 194.62303 \nL 52.266205 204.689697 \nL 52.445278 209.265455 \nL 52.62435 201.944242 \nL 52.684041 208.350303 \nL 52.743732 207.435152 \nL 52.863114 208.350303 \nL 52.922805 208.350303 \nL 53.042186 202.859394 \nL 53.101877 212.010909 \nL 53.161568 201.944242 \nL 53.221259 212.010909 \nL 53.28095 208.350303 \nL 53.400331 212.926061 \nL 53.460022 205.604848 \nL 53.519713 209.265455 \nL 53.579404 209.265455 \nL 53.639095 212.926061 \nL 53.698786 210.180606 \nL 53.758476 204.689697 \nL 53.818167 208.350303 \nL 53.877858 209.265455 \nL 53.937549 213.841212 \nL 53.99724 211.095758 \nL 54.056931 211.095758 \nL 54.116622 206.52 \nL 54.236003 213.841212 \nL 54.295694 212.010909 \nL 54.355385 201.029091 \nL 54.415076 209.265455 \nL 54.474767 204.689697 \nL 54.594148 212.926061 \nL 54.71353 207.435152 \nL 54.832912 214.756364 \nL 54.952293 212.010909 \nL 55.011984 214.756364 \nL 55.071675 211.095758 \nL 55.131366 214.756364 \nL 55.191057 212.926061 \nL 55.250748 212.010909 \nL 55.42982 214.756364 \nL 55.489511 211.095758 \nL 55.549202 213.841212 \nL 55.608893 214.756364 \nL 55.668584 211.095758 \nL 55.728274 212.010909 \nL 55.967038 214.756364 \nL 56.026729 213.841212 \nL 56.08642 210.180606 \nL 56.265492 214.756364 \nL 56.384874 212.010909 \nL 56.444565 214.756364 \nL 56.504256 213.841212 \nL 56.563946 212.010909 \nL 56.623637 214.756364 \nL 56.683328 212.926061 \nL 56.743019 214.756364 \nL 56.862401 212.926061 \nL 56.981782 214.756364 \nL 57.041473 213.841212 \nL 57.160855 214.756364 \nL 57.220546 212.926061 \nL 57.280237 213.841212 \nL 57.339927 212.926061 \nL 57.399618 214.756364 \nL 57.519 212.010909 \nL 57.638382 214.756364 \nL 57.757763 212.010909 \nL 57.936836 214.756364 \nL 58.354672 214.756364 \nL 58.414363 213.841212 \nL 58.533744 214.756364 \nL 58.653126 214.756364 \nL 58.712817 213.841212 \nL 58.772508 214.756364 \nL 58.891889 212.010909 \nL 59.011271 214.756364 \nL 59.130653 214.756364 \nL 59.190344 213.841212 \nL 59.250035 214.756364 \nL 59.309725 212.926061 \nL 59.429107 214.756364 \nL 59.846943 214.756364 \nL 59.906634 212.926061 \nL 60.026016 214.756364 \nL 60.085706 213.841212 \nL 60.205088 214.756364 \nL 60.384161 214.756364 \nL 60.443852 213.841212 \nL 60.563233 214.756364 \nL 60.622924 214.756364 \nL 60.682615 213.841212 \nL 60.801997 214.756364 \nL 60.861687 214.756364 \nL 60.921378 213.841212 \nL 61.04076 214.756364 \nL 61.219833 214.756364 \nL 61.279523 212.926061 \nL 61.398905 214.756364 \nL 61.637668 214.756364 \nL 61.697359 213.841212 \nL 61.816741 214.756364 \nL 61.876432 213.841212 \nL 61.995814 214.756364 \nL 62.115195 212.010909 \nL 62.234577 214.756364 \nL 63.010558 214.756364 \nL 63.070249 213.841212 \nL 63.189631 214.756364 \nL 65.219119 214.756364 \nL 65.27881 213.841212 \nL 65.398192 214.756364 \nL 68.681189 214.756364 \nL 68.740879 212.010909 \nL 68.860261 214.756364 \nL 69.158715 214.756364 \nL 69.218406 213.841212 \nL 69.337788 214.756364 \nL 69.397479 214.756364 \nL 69.45717 213.841212 \nL 69.576551 214.756364 \nL 70.88975 214.756364 \nL 70.949441 213.841212 \nL 71.068823 214.756364 \nL 75.7844 214.756364 \nL 75.84409 213.841212 \nL 75.963472 214.756364 \nL 83.424828 214.756364 \nL 83.484519 213.841212 \nL 83.603901 214.756364 \nL 88.259787 214.756364 \nL 88.319478 213.841212 \nL 88.438859 214.756364 \nL 126.163476 214.756364 \nL 126.223167 213.841212 \nL 126.342548 214.756364 \nL 129.088327 214.756364 \nL 129.148018 213.841212 \nL 129.2674 214.756364 \nL 174.930899 214.756364 \nL 174.99059 213.841212 \nL 175.109971 214.756364 \nL 209.850045 214.756364 \nL 209.909736 213.841212 \nL 210.029118 214.756364 \nL 352.869318 214.756364 \nL 352.869318 214.756364 \n\" style=\"fill:none;stroke:#1f77b4;stroke-linecap:square;stroke-width:1.5;\"/>\n   </g>\n   <g id=\"patch_3\">\n    <path d=\"M 33.2875 224.64 \nL 33.2875 7.2 \n\" style=\"fill:none;stroke:#000000;stroke-linecap:square;stroke-linejoin:miter;stroke-width:0.8;\"/>\n   </g>\n   <g id=\"patch_4\">\n    <path d=\"M 368.0875 224.64 \nL 368.0875 7.2 \n\" style=\"fill:none;stroke:#000000;stroke-linecap:square;stroke-linejoin:miter;stroke-width:0.8;\"/>\n   </g>\n   <g id=\"patch_5\">\n    <path d=\"M 33.2875 224.64 \nL 368.0875 224.64 \n\" style=\"fill:none;stroke:#000000;stroke-linecap:square;stroke-linejoin:miter;stroke-width:0.8;\"/>\n   </g>\n   <g id=\"patch_6\">\n    <path d=\"M 33.2875 7.2 \nL 368.0875 7.2 \n\" style=\"fill:none;stroke:#000000;stroke-linecap:square;stroke-linejoin:miter;stroke-width:0.8;\"/>\n   </g>\n  </g>\n </g>\n <defs>\n  <clipPath id=\"p6f4bc0cd25\">\n   <rect height=\"217.44\" width=\"334.8\" x=\"33.2875\" y=\"7.2\"/>\n  </clipPath>\n </defs>\n</svg>\n",
      "image/png": "[encoded data removed]"
     },
     "metadata": {
      "needs_background": "light"
     }
    }
   ],
   "source": [
    "plt.plot(count)\n",
    "# plt.xlim((0,250))\n",
    "plt.show() # phân bố độ dài các câu"
   ]
  },
  {
   "cell_type": "code",
   "execution_count": 27,
   "metadata": {},
   "outputs": [],
   "source": [
    "normalized_len = 150 # đa số câu đều < 150, chuẩn hóa độ dài câu về 150"
   ]
  },
  {
   "cell_type": "code",
   "execution_count": 28,
   "metadata": {},
   "outputs": [],
   "source": [
    "def normalize_length(sentences, seq_length):\n",
    "    features = np.zeros((len(sentences), seq_length), dtype=int)\n",
    "    \n",
    "    for i, review in enumerate(sentences):\n",
    "        review_len = len(review)\n",
    "        \n",
    "        if review_len <= seq_length: # ngắn hơn seq_length -> chèn thêm 0 vào đầu\n",
    "            zeroes = list(np.zeros(seq_length-review_len))\n",
    "            new = zeroes+review\n",
    "        elif review_len > seq_length: # dài hơn -> chỉ lấy <seq_length> số đầu tiên\n",
    "            new = review[0:seq_length]\n",
    "        \n",
    "        features[i] = np.array(new)\n",
    "    return features"
   ]
  },
  {
   "cell_type": "code",
   "execution_count": 29,
   "metadata": {},
   "outputs": [],
   "source": [
    "train_set_vct_normalized = normalize_length(train_set_vct, normalized_len)"
   ]
  },
  {
   "cell_type": "code",
   "execution_count": 30,
   "metadata": {},
   "outputs": [],
   "source": [
    "labels = np.ones(len(train_set_vct_normalized))\n",
    "labels[:1700] = -1 # negative\n",
    "labels[1700:3400] = 0 # neural"
   ]
  },
  {
   "cell_type": "code",
   "execution_count": 32,
   "metadata": {},
   "outputs": [],
   "source": [
    "train_data = TensorDataset(torch.from_numpy(train_set_vct_normalized), torch.from_numpy(labels))"
   ]
  },
  {
   "cell_type": "code",
   "execution_count": 33,
   "metadata": {},
   "outputs": [],
   "source": [
    "bs = 20\n",
    "\n",
    "train_loader = DataLoader(train_data, shuffle=True, batch_size=bs)"
   ]
  },
  {
   "cell_type": "code",
   "execution_count": 34,
   "metadata": {},
   "outputs": [
    {
     "output_type": "stream",
     "name": "stdout",
     "text": [
      "tensor([[   0,    0,    0,  ...,  181, 1141,    0],\n        [   0,    0,    0,  ...,    9,   67,    0],\n        [   0,    0,    0,  ...,    0,    0,    0],\n        ...,\n        [   0,    0,    0,  ..., 1172, 5916, 2051],\n        [   0,    0,    0,  ..., 1958,  330,    0],\n        [   0,    0,    0,  ...,  829,  568,    0]])\ntensor([ 0., -1.,  1.,  1.,  1.,  0., -1.,  1., -1., -1.,  1., -1.,  0.,  0.,\n         0.,  1., -1.,  0.,  1.,  1.], dtype=torch.float64)\n"
     ]
    }
   ],
   "source": [
    "examples = iter(train_loader)\n",
    "sentences, ground_truth = examples.next()\n",
    "\n",
    "print(sentences)\n",
    "print(ground_truth)"
   ]
  },
  {
   "cell_type": "code",
   "execution_count": 35,
   "metadata": {},
   "outputs": [
    {
     "output_type": "stream",
     "name": "stdout",
     "text": [
      "['100', 'là', 'cái', 'này', 'éo', 'được', 'ưa_chuộng', 'ở', 'vn', 'từ', 'tính_năng', 'cho_đến', '...', 'mọi', 'thứ', 'tính_năng', 'thì', 'chúng_ta', 'đã', 'rõ', 'nó', 'cũng_như', 'nhiều', 'sw', 'khác', 'chỉ', 'hỗ_trợ', 'tốt', 'ở', 'mỹ', 'vs', 'một_số', 'nước', 'tư_bản', 'giẫy', 'chết', 'khác', 'về', 'việc', 'dùng', 'giang_hồ', 'dồn', 'tiền', 'mua', 'cái', '6_plus', 'phần_lớn', 'đến', 'đám', 'đông', 'để', 'khoe', 'dùng', 'cái', 'này', 'thì', 'khoe', 'cái', '6_plus', '6_s_plus', 'thế', 'quái', 'nào', 'được', 'không', 'lẻ', 'vừa', 'nhìn', 'đồng_hồ', 'vừa', 'móc', 'điện_thoại', 'nhìn']\n"
     ]
    }
   ],
   "source": [
    "decoded_sentence = [i2w[w.item()] for w in sentences[2] if w != 0]\n",
    "print(decoded_sentence)"
   ]
  },
  {
   "cell_type": "code",
   "execution_count": 36,
   "metadata": {},
   "outputs": [
    {
     "output_type": "stream",
     "name": "stdout",
     "text": [
      "['cẩn_thận', 'china', 'cài', 'phần_mềm', 'gián_điệp', '!']\n"
     ]
    }
   ],
   "source": [
    "print(sentence)"
   ]
  }
 ]
}
