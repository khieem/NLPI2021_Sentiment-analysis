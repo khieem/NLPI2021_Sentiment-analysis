{
 "metadata": {
  "language_info": {
   "codemirror_mode": {
    "name": "ipython",
    "version": 3
   },
   "file_extension": ".py",
   "mimetype": "text/x-python",
   "name": "python",
   "nbconvert_exporter": "python",
   "pygments_lexer": "ipython3",
   "version": "3.7.6-final"
  },
  "orig_nbformat": 2,
  "kernelspec": {
   "name": "python3",
   "display_name": "Python 3",
   "language": "python"
  }
 },
 "nbformat": 4,
 "nbformat_minor": 2,
 "cells": [
  {
   "cell_type": "code",
   "execution_count": 1,
   "metadata": {},
   "outputs": [],
   "source": [
    "import torch\n",
    "import numpy as np\n",
    "import re\n",
    "from collections import Counter\n",
    "import nltk\n",
    "import matplotlib.pyplot as plt\n",
    "from torch.utils.data import DataLoader, TensorDataset\n",
    "from string import punctuation\n",
    "from torchvision import transforms\n",
    "import torch.nn as nn"
   ]
  },
  {
   "cell_type": "code",
   "execution_count": 2,
   "metadata": {},
   "outputs": [],
   "source": [
    "def read(path):\n",
    "    file = open(path, encoding='utf8')\n",
    "    lines = [line for line in file.readlines()]\n",
    "    file.close()\n",
    "    return lines"
   ]
  },
  {
   "cell_type": "code",
   "execution_count": 3,
   "metadata": {},
   "outputs": [],
   "source": [
    "train_negative = 'train_negative_tokenized.txt'\n",
    "train_neural = 'train_neutral_tokenized.txt'\n",
    "train_positive = 'train_neutral_tokenized.txt'"
   ]
  },
  {
   "cell_type": "code",
   "execution_count": 4,
   "metadata": {},
   "outputs": [],
   "source": [
    "negative = read(train_negative)\n",
    "neural = read(train_neural)\n",
    "positive = read(train_negative)"
   ]
  },
  {
   "cell_type": "code",
   "execution_count": 5,
   "metadata": {
    "tags": []
   },
   "outputs": [],
   "source": [
    "train_set = negative + neural + positive\n",
    "\n",
    "# bỏ những dòng trống\n",
    "train_set = [i for i in train_set if i != '\\n']\n",
    "size = len(train_set)\n",
    "\n",
    "# đưa tất cả về chữ thường\n",
    "for i in range(size):\n",
    "    train_set[i] = train_set[i].lower()\n",
    "\n",
    "# bỏ các ký tự unicode\n",
    "for i in range(size):\n",
    "    train_set[i] = train_set[i].replace('\\ufeff', '').replace('\\xa0', '').replace('\\u200e', '').replace('\\u200b', '').replace('\\n', '')\n",
    "\n",
    "# bỏ các chuỗi mặt cười\n",
    "for i in range(size):\n",
    "    train_set[i] = re.sub(r':(\\s*\\))+\\s', '', train_set[i])\n",
    "\n",
    "# bỏ các chuỗi '...'\n",
    "for i in range(size):\n",
    "    train_set[i] = re.sub(r':(\\s*\\))+\\s', '', train_set[i])\n"
   ]
  },
  {
   "cell_type": "code",
   "execution_count": 6,
   "metadata": {},
   "outputs": [],
   "source": [
    "vocab = Counter()\n",
    "\n",
    "for i, sentence in enumerate(train_set):\n",
    "    train_set[i] = []\n",
    "    for word in nltk.word_tokenize(sentence):  # Tokenizing the words\n",
    "        vocab.update([word]) # cập nhật số lần xuất hiện của word\n",
    "        train_set[i].append(word)"
   ]
  },
  {
   "cell_type": "code",
   "execution_count": 7,
   "metadata": {},
   "outputs": [],
   "source": [
    "for k in punctuation:\n",
    "    del vocab[k]"
   ]
  },
  {
   "cell_type": "code",
   "execution_count": 8,
   "metadata": {},
   "outputs": [],
   "source": [
    "vocab_ = sorted(vocab, key=vocab.get, reverse=True) # sắp xếp theo thứ tự tần suất xuất hiện giảm dần"
   ]
  },
  {
   "cell_type": "code",
   "execution_count": 9,
   "metadata": {},
   "outputs": [],
   "source": [
    "w2i = {w:i+1 for i,w in enumerate(vocab)} # w2i[word] ->  mức độ xuất hiện word trong corpus\n",
    "# (1 là xuất hiện nhiều nhất, số 0 để padding)\n",
    "i2w = {i+1:w for i,w in enumerate(vocab)}"
   ]
  },
  {
   "cell_type": "code",
   "execution_count": 10,
   "metadata": {},
   "outputs": [],
   "source": [
    "train_set_vct = np.empty_like(train_set)\n",
    "for i, sentence in enumerate(train_set):\n",
    "    train_set_vct[i] = [w2i[word] if word in w2i else 0 for word in sentence] # thay từ bằng w2i của từ, nếu không trong corpus -> 0"
   ]
  },
  {
   "cell_type": "code",
   "execution_count": 11,
   "metadata": {
    "tags": []
   },
   "outputs": [],
   "source": [
    "count = np.zeros(len(train_set_vct))\n",
    "for s in train_set_vct:\n",
    "    count[len(s)] += 1"
   ]
  },
  {
   "cell_type": "code",
   "execution_count": 12,
   "metadata": {},
   "outputs": [
    {
     "output_type": "display_data",
     "data": {
      "text/plain": "<Figure size 432x288 with 1 Axes>",
      "image/svg+xml": "<?xml version=\"1.0\" encoding=\"utf-8\" standalone=\"no\"?>\r\n<!DOCTYPE svg PUBLIC \"-//W3C//DTD SVG 1.1//EN\"\r\n  \"http://www.w3.org/Graphics/SVG/1.1/DTD/svg11.dtd\">\r\n<!-- Created with matplotlib (https://matplotlib.org/) -->\r\n<svg height=\"248.518125pt\" version=\"1.1\" viewBox=\"0 0 384.83125 248.518125\" width=\"384.83125pt\" xmlns=\"http://www.w3.org/2000/svg\" xmlns:xlink=\"http://www.w3.org/1999/xlink\">\r\n <defs>\r\n  <style type=\"text/css\">\r\n*{stroke-linecap:butt;stroke-linejoin:round;}\r\n  </style>\r\n </defs>\r\n <g id=\"figure_1\">\r\n  <g id=\"patch_1\">\r\n   <path d=\"M 0 248.518125 \r\nL 384.83125 248.518125 \r\nL 384.83125 0 \r\nL 0 0 \r\nz\r\n\" style=\"fill:none;\"/>\r\n  </g>\r\n  <g id=\"axes_1\">\r\n   <g id=\"patch_2\">\r\n    <path d=\"M 33.2875 224.64 \r\nL 368.0875 224.64 \r\nL 368.0875 7.2 \r\nL 33.2875 7.2 \r\nz\r\n\" style=\"fill:#ffffff;\"/>\r\n   </g>\r\n   <g id=\"matplotlib.axis_1\">\r\n    <g id=\"xtick_1\">\r\n     <g id=\"line2d_1\">\r\n      <defs>\r\n       <path d=\"M 0 0 \r\nL 0 3.5 \r\n\" id=\"mf54ea1b839\" style=\"stroke:#000000;stroke-width:0.8;\"/>\r\n      </defs>\r\n      <g>\r\n       <use style=\"stroke:#000000;stroke-width:0.8;\" x=\"33.2875\" xlink:href=\"#mf54ea1b839\" y=\"224.64\"/>\r\n      </g>\r\n     </g>\r\n     <g id=\"text_1\">\r\n      <!-- 0 -->\r\n      <defs>\r\n       <path d=\"M 31.78125 66.40625 \r\nQ 24.171875 66.40625 20.328125 58.90625 \r\nQ 16.5 51.421875 16.5 36.375 \r\nQ 16.5 21.390625 20.328125 13.890625 \r\nQ 24.171875 6.390625 31.78125 6.390625 \r\nQ 39.453125 6.390625 43.28125 13.890625 \r\nQ 47.125 21.390625 47.125 36.375 \r\nQ 47.125 51.421875 43.28125 58.90625 \r\nQ 39.453125 66.40625 31.78125 66.40625 \r\nz\r\nM 31.78125 74.21875 \r\nQ 44.046875 74.21875 50.515625 64.515625 \r\nQ 56.984375 54.828125 56.984375 36.375 \r\nQ 56.984375 17.96875 50.515625 8.265625 \r\nQ 44.046875 -1.421875 31.78125 -1.421875 \r\nQ 19.53125 -1.421875 13.0625 8.265625 \r\nQ 6.59375 17.96875 6.59375 36.375 \r\nQ 6.59375 54.828125 13.0625 64.515625 \r\nQ 19.53125 74.21875 31.78125 74.21875 \r\nz\r\n\" id=\"DejaVuSans-48\"/>\r\n      </defs>\r\n      <g transform=\"translate(30.10625 239.238437)scale(0.1 -0.1)\">\r\n       <use xlink:href=\"#DejaVuSans-48\"/>\r\n      </g>\r\n     </g>\r\n    </g>\r\n    <g id=\"xtick_2\">\r\n     <g id=\"line2d_2\">\r\n      <g>\r\n       <use style=\"stroke:#000000;stroke-width:0.8;\" x=\"100.2475\" xlink:href=\"#mf54ea1b839\" y=\"224.64\"/>\r\n      </g>\r\n     </g>\r\n     <g id=\"text_2\">\r\n      <!-- 50 -->\r\n      <defs>\r\n       <path d=\"M 10.796875 72.90625 \r\nL 49.515625 72.90625 \r\nL 49.515625 64.59375 \r\nL 19.828125 64.59375 \r\nL 19.828125 46.734375 \r\nQ 21.96875 47.46875 24.109375 47.828125 \r\nQ 26.265625 48.1875 28.421875 48.1875 \r\nQ 40.625 48.1875 47.75 41.5 \r\nQ 54.890625 34.8125 54.890625 23.390625 \r\nQ 54.890625 11.625 47.5625 5.09375 \r\nQ 40.234375 -1.421875 26.90625 -1.421875 \r\nQ 22.3125 -1.421875 17.546875 -0.640625 \r\nQ 12.796875 0.140625 7.71875 1.703125 \r\nL 7.71875 11.625 \r\nQ 12.109375 9.234375 16.796875 8.0625 \r\nQ 21.484375 6.890625 26.703125 6.890625 \r\nQ 35.15625 6.890625 40.078125 11.328125 \r\nQ 45.015625 15.765625 45.015625 23.390625 \r\nQ 45.015625 31 40.078125 35.4375 \r\nQ 35.15625 39.890625 26.703125 39.890625 \r\nQ 22.75 39.890625 18.8125 39.015625 \r\nQ 14.890625 38.140625 10.796875 36.28125 \r\nz\r\n\" id=\"DejaVuSans-53\"/>\r\n      </defs>\r\n      <g transform=\"translate(93.885 239.238437)scale(0.1 -0.1)\">\r\n       <use xlink:href=\"#DejaVuSans-53\"/>\r\n       <use x=\"63.623047\" xlink:href=\"#DejaVuSans-48\"/>\r\n      </g>\r\n     </g>\r\n    </g>\r\n    <g id=\"xtick_3\">\r\n     <g id=\"line2d_3\">\r\n      <g>\r\n       <use style=\"stroke:#000000;stroke-width:0.8;\" x=\"167.2075\" xlink:href=\"#mf54ea1b839\" y=\"224.64\"/>\r\n      </g>\r\n     </g>\r\n     <g id=\"text_3\">\r\n      <!-- 100 -->\r\n      <defs>\r\n       <path d=\"M 12.40625 8.296875 \r\nL 28.515625 8.296875 \r\nL 28.515625 63.921875 \r\nL 10.984375 60.40625 \r\nL 10.984375 69.390625 \r\nL 28.421875 72.90625 \r\nL 38.28125 72.90625 \r\nL 38.28125 8.296875 \r\nL 54.390625 8.296875 \r\nL 54.390625 0 \r\nL 12.40625 0 \r\nz\r\n\" id=\"DejaVuSans-49\"/>\r\n      </defs>\r\n      <g transform=\"translate(157.66375 239.238437)scale(0.1 -0.1)\">\r\n       <use xlink:href=\"#DejaVuSans-49\"/>\r\n       <use x=\"63.623047\" xlink:href=\"#DejaVuSans-48\"/>\r\n       <use x=\"127.246094\" xlink:href=\"#DejaVuSans-48\"/>\r\n      </g>\r\n     </g>\r\n    </g>\r\n    <g id=\"xtick_4\">\r\n     <g id=\"line2d_4\">\r\n      <g>\r\n       <use style=\"stroke:#000000;stroke-width:0.8;\" x=\"234.1675\" xlink:href=\"#mf54ea1b839\" y=\"224.64\"/>\r\n      </g>\r\n     </g>\r\n     <g id=\"text_4\">\r\n      <!-- 150 -->\r\n      <g transform=\"translate(224.62375 239.238437)scale(0.1 -0.1)\">\r\n       <use xlink:href=\"#DejaVuSans-49\"/>\r\n       <use x=\"63.623047\" xlink:href=\"#DejaVuSans-53\"/>\r\n       <use x=\"127.246094\" xlink:href=\"#DejaVuSans-48\"/>\r\n      </g>\r\n     </g>\r\n    </g>\r\n    <g id=\"xtick_5\">\r\n     <g id=\"line2d_5\">\r\n      <g>\r\n       <use style=\"stroke:#000000;stroke-width:0.8;\" x=\"301.1275\" xlink:href=\"#mf54ea1b839\" y=\"224.64\"/>\r\n      </g>\r\n     </g>\r\n     <g id=\"text_5\">\r\n      <!-- 200 -->\r\n      <defs>\r\n       <path d=\"M 19.1875 8.296875 \r\nL 53.609375 8.296875 \r\nL 53.609375 0 \r\nL 7.328125 0 \r\nL 7.328125 8.296875 \r\nQ 12.9375 14.109375 22.625 23.890625 \r\nQ 32.328125 33.6875 34.8125 36.53125 \r\nQ 39.546875 41.84375 41.421875 45.53125 \r\nQ 43.3125 49.21875 43.3125 52.78125 \r\nQ 43.3125 58.59375 39.234375 62.25 \r\nQ 35.15625 65.921875 28.609375 65.921875 \r\nQ 23.96875 65.921875 18.8125 64.3125 \r\nQ 13.671875 62.703125 7.8125 59.421875 \r\nL 7.8125 69.390625 \r\nQ 13.765625 71.78125 18.9375 73 \r\nQ 24.125 74.21875 28.421875 74.21875 \r\nQ 39.75 74.21875 46.484375 68.546875 \r\nQ 53.21875 62.890625 53.21875 53.421875 \r\nQ 53.21875 48.921875 51.53125 44.890625 \r\nQ 49.859375 40.875 45.40625 35.40625 \r\nQ 44.1875 33.984375 37.640625 27.21875 \r\nQ 31.109375 20.453125 19.1875 8.296875 \r\nz\r\n\" id=\"DejaVuSans-50\"/>\r\n      </defs>\r\n      <g transform=\"translate(291.58375 239.238437)scale(0.1 -0.1)\">\r\n       <use xlink:href=\"#DejaVuSans-50\"/>\r\n       <use x=\"63.623047\" xlink:href=\"#DejaVuSans-48\"/>\r\n       <use x=\"127.246094\" xlink:href=\"#DejaVuSans-48\"/>\r\n      </g>\r\n     </g>\r\n    </g>\r\n    <g id=\"xtick_6\">\r\n     <g id=\"line2d_6\">\r\n      <g>\r\n       <use style=\"stroke:#000000;stroke-width:0.8;\" x=\"368.0875\" xlink:href=\"#mf54ea1b839\" y=\"224.64\"/>\r\n      </g>\r\n     </g>\r\n     <g id=\"text_6\">\r\n      <!-- 250 -->\r\n      <g transform=\"translate(358.54375 239.238437)scale(0.1 -0.1)\">\r\n       <use xlink:href=\"#DejaVuSans-50\"/>\r\n       <use x=\"63.623047\" xlink:href=\"#DejaVuSans-53\"/>\r\n       <use x=\"127.246094\" xlink:href=\"#DejaVuSans-48\"/>\r\n      </g>\r\n     </g>\r\n    </g>\r\n   </g>\r\n   <g id=\"matplotlib.axis_2\">\r\n    <g id=\"ytick_1\">\r\n     <g id=\"line2d_7\">\r\n      <defs>\r\n       <path d=\"M 0 0 \r\nL -3.5 0 \r\n\" id=\"mb0ec7048b7\" style=\"stroke:#000000;stroke-width:0.8;\"/>\r\n      </defs>\r\n      <g>\r\n       <use style=\"stroke:#000000;stroke-width:0.8;\" x=\"33.2875\" xlink:href=\"#mb0ec7048b7\" y=\"214.756364\"/>\r\n      </g>\r\n     </g>\r\n     <g id=\"text_7\">\r\n      <!-- 0 -->\r\n      <g transform=\"translate(19.925 218.555582)scale(0.1 -0.1)\">\r\n       <use xlink:href=\"#DejaVuSans-48\"/>\r\n      </g>\r\n     </g>\r\n    </g>\r\n    <g id=\"ytick_2\">\r\n     <g id=\"line2d_8\">\r\n      <g>\r\n       <use style=\"stroke:#000000;stroke-width:0.8;\" x=\"33.2875\" xlink:href=\"#mb0ec7048b7\" y=\"168.998788\"/>\r\n      </g>\r\n     </g>\r\n     <g id=\"text_8\">\r\n      <!-- 50 -->\r\n      <g transform=\"translate(13.5625 172.798007)scale(0.1 -0.1)\">\r\n       <use xlink:href=\"#DejaVuSans-53\"/>\r\n       <use x=\"63.623047\" xlink:href=\"#DejaVuSans-48\"/>\r\n      </g>\r\n     </g>\r\n    </g>\r\n    <g id=\"ytick_3\">\r\n     <g id=\"line2d_9\">\r\n      <g>\r\n       <use style=\"stroke:#000000;stroke-width:0.8;\" x=\"33.2875\" xlink:href=\"#mb0ec7048b7\" y=\"123.241212\"/>\r\n      </g>\r\n     </g>\r\n     <g id=\"text_9\">\r\n      <!-- 100 -->\r\n      <g transform=\"translate(7.2 127.040431)scale(0.1 -0.1)\">\r\n       <use xlink:href=\"#DejaVuSans-49\"/>\r\n       <use x=\"63.623047\" xlink:href=\"#DejaVuSans-48\"/>\r\n       <use x=\"127.246094\" xlink:href=\"#DejaVuSans-48\"/>\r\n      </g>\r\n     </g>\r\n    </g>\r\n    <g id=\"ytick_4\">\r\n     <g id=\"line2d_10\">\r\n      <g>\r\n       <use style=\"stroke:#000000;stroke-width:0.8;\" x=\"33.2875\" xlink:href=\"#mb0ec7048b7\" y=\"77.483636\"/>\r\n      </g>\r\n     </g>\r\n     <g id=\"text_10\">\r\n      <!-- 150 -->\r\n      <g transform=\"translate(7.2 81.282855)scale(0.1 -0.1)\">\r\n       <use xlink:href=\"#DejaVuSans-49\"/>\r\n       <use x=\"63.623047\" xlink:href=\"#DejaVuSans-53\"/>\r\n       <use x=\"127.246094\" xlink:href=\"#DejaVuSans-48\"/>\r\n      </g>\r\n     </g>\r\n    </g>\r\n    <g id=\"ytick_5\">\r\n     <g id=\"line2d_11\">\r\n      <g>\r\n       <use style=\"stroke:#000000;stroke-width:0.8;\" x=\"33.2875\" xlink:href=\"#mb0ec7048b7\" y=\"31.726061\"/>\r\n      </g>\r\n     </g>\r\n     <g id=\"text_11\">\r\n      <!-- 200 -->\r\n      <g transform=\"translate(7.2 35.525279)scale(0.1 -0.1)\">\r\n       <use xlink:href=\"#DejaVuSans-50\"/>\r\n       <use x=\"63.623047\" xlink:href=\"#DejaVuSans-48\"/>\r\n       <use x=\"127.246094\" xlink:href=\"#DejaVuSans-48\"/>\r\n      </g>\r\n     </g>\r\n    </g>\r\n   </g>\r\n   <g id=\"line2d_12\">\r\n    <path clip-path=\"url(#p71d57deb75)\" d=\"M 33.2875 213.841212 \r\nL 34.6267 202.859394 \r\nL 35.9659 158.01697 \r\nL 37.3051 150.695758 \r\nL 38.6443 117.750303 \r\nL 41.3227 78.398788 \r\nL 42.6619 83.889697 \r\nL 44.0011 46.368485 \r\nL 45.3403 61.926061 \r\nL 46.6795 62.841212 \r\nL 48.0187 51.859394 \r\nL 49.3579 17.083636 \r\nL 50.6971 59.180606 \r\nL 52.0363 70.162424 \r\nL 53.3755 95.786667 \r\nL 54.7147 70.162424 \r\nL 56.0539 90.295758 \r\nL 57.3931 71.077576 \r\nL 58.7323 116.835152 \r\nL 60.0715 97.61697 \r\nL 61.4107 107.683636 \r\nL 62.7499 99.447273 \r\nL 64.0891 124.156364 \r\nL 65.4283 140.629091 \r\nL 66.7675 130.562424 \r\nL 68.1067 136.968485 \r\nL 69.4459 132.392727 \r\nL 70.7851 137.883636 \r\nL 72.1243 137.883636 \r\nL 73.4635 153.441212 \r\nL 74.8027 165.338182 \r\nL 76.1419 166.253333 \r\nL 77.4811 149.780606 \r\nL 78.8203 179.065455 \r\nL 80.1595 168.083636 \r\nL 81.4987 173.574545 \r\nL 82.8379 184.556364 \r\nL 84.1771 167.168485 \r\nL 85.5163 166.253333 \r\nL 86.8555 163.507879 \r\nL 88.1947 188.21697 \r\nL 89.5339 184.556364 \r\nL 90.8731 190.962424 \r\nL 92.2123 183.641212 \r\nL 93.5515 179.980606 \r\nL 94.8907 178.150303 \r\nL 96.2299 192.792727 \r\nL 97.5691 191.877576 \r\nL 98.9083 173.574545 \r\nL 100.2475 191.877576 \r\nL 101.5867 192.792727 \r\nL 102.9259 195.538182 \r\nL 104.2651 200.113939 \r\nL 105.6043 191.877576 \r\nL 106.9435 199.198788 \r\nL 108.2827 195.538182 \r\nL 109.6219 201.029091 \r\nL 110.9611 203.774545 \r\nL 112.3003 201.029091 \r\nL 113.6395 194.62303 \r\nL 114.9787 201.029091 \r\nL 116.3179 200.113939 \r\nL 117.6571 204.689697 \r\nL 118.9963 206.52 \r\nL 120.3355 205.604848 \r\nL 121.6747 209.265455 \r\nL 123.0139 202.859394 \r\nL 124.3531 205.604848 \r\nL 125.6923 201.944242 \r\nL 127.0315 208.350303 \r\nL 128.3707 207.435152 \r\nL 129.7099 208.350303 \r\nL 132.3883 208.350303 \r\nL 133.7275 206.52 \r\nL 135.0667 202.859394 \r\nL 136.4059 212.010909 \r\nL 137.7451 201.944242 \r\nL 139.0843 212.010909 \r\nL 140.4235 208.350303 \r\nL 141.7627 210.180606 \r\nL 143.1019 212.926061 \r\nL 144.4411 205.604848 \r\nL 145.7803 209.265455 \r\nL 147.1195 209.265455 \r\nL 148.4587 212.926061 \r\nL 149.7979 210.180606 \r\nL 151.1371 204.689697 \r\nL 152.4763 208.350303 \r\nL 153.8155 209.265455 \r\nL 155.1547 213.841212 \r\nL 156.4939 211.095758 \r\nL 157.8331 211.095758 \r\nL 159.1723 206.52 \r\nL 160.5115 212.926061 \r\nL 161.8507 213.841212 \r\nL 163.1899 212.010909 \r\nL 164.5291 201.029091 \r\nL 165.8683 209.265455 \r\nL 167.2075 204.689697 \r\nL 168.5467 212.926061 \r\nL 169.8859 212.926061 \r\nL 172.5643 207.435152 \r\nL 173.9035 214.756364 \r\nL 175.2427 214.756364 \r\nL 176.5819 212.010909 \r\nL 177.9211 212.010909 \r\nL 179.2603 214.756364 \r\nL 180.5995 211.095758 \r\nL 181.9387 214.756364 \r\nL 183.2779 212.926061 \r\nL 184.6171 212.010909 \r\nL 185.9563 212.926061 \r\nL 187.2955 212.926061 \r\nL 188.6347 214.756364 \r\nL 189.9739 211.095758 \r\nL 191.3131 213.841212 \r\nL 192.6523 214.756364 \r\nL 193.9915 211.095758 \r\nL 196.6699 212.926061 \r\nL 198.0091 212.926061 \r\nL 199.3483 214.756364 \r\nL 200.6875 214.756364 \r\nL 202.0267 213.841212 \r\nL 203.3659 210.180606 \r\nL 204.7051 213.841212 \r\nL 206.0443 214.756364 \r\nL 207.3835 214.756364 \r\nL 208.7227 212.010909 \r\nL 210.0619 212.010909 \r\nL 211.4011 214.756364 \r\nL 212.7403 213.841212 \r\nL 214.0795 212.010909 \r\nL 215.4187 214.756364 \r\nL 216.7579 212.926061 \r\nL 218.0971 214.756364 \r\nL 219.4363 212.926061 \r\nL 220.7755 212.926061 \r\nL 222.1147 214.756364 \r\nL 223.4539 214.756364 \r\nL 224.7931 213.841212 \r\nL 226.1323 214.756364 \r\nL 227.4715 214.756364 \r\nL 228.8107 212.926061 \r\nL 230.1499 213.841212 \r\nL 231.4891 212.926061 \r\nL 232.8283 214.756364 \r\nL 234.1675 212.926061 \r\nL 235.5067 212.010909 \r\nL 236.8459 214.756364 \r\nL 238.1851 214.756364 \r\nL 239.5243 212.926061 \r\nL 240.8635 212.010909 \r\nL 242.2027 213.841212 \r\nL 243.5419 214.756364 \r\nL 254.2555 214.756364 \r\nL 255.5947 213.841212 \r\nL 256.9339 214.756364 \r\nL 260.9515 214.756364 \r\nL 262.2907 213.841212 \r\nL 263.6299 214.756364 \r\nL 264.9691 213.841212 \r\nL 266.3083 212.010909 \r\nL 267.6475 214.756364 \r\nL 271.6651 214.756364 \r\nL 273.0043 213.841212 \r\nL 274.3435 214.756364 \r\nL 275.6827 212.926061 \r\nL 277.0219 214.756364 \r\nL 287.7355 214.756364 \r\nL 289.0747 212.926061 \r\nL 290.4139 214.756364 \r\nL 291.7531 214.756364 \r\nL 293.0923 213.841212 \r\nL 294.4315 214.756364 \r\nL 299.7883 214.756364 \r\nL 301.1275 213.841212 \r\nL 302.4667 214.756364 \r\nL 305.1451 214.756364 \r\nL 306.4843 213.841212 \r\nL 307.8235 214.756364 \r\nL 310.5019 214.756364 \r\nL 311.8411 213.841212 \r\nL 313.1803 214.756364 \r\nL 318.5371 214.756364 \r\nL 319.8763 212.926061 \r\nL 321.2155 214.756364 \r\nL 327.9115 214.756364 \r\nL 329.2507 213.841212 \r\nL 330.5899 214.756364 \r\nL 331.9291 214.756364 \r\nL 333.2683 213.841212 \r\nL 334.6075 214.756364 \r\nL 335.9467 214.756364 \r\nL 337.2859 213.841212 \r\nL 338.6251 212.010909 \r\nL 339.9643 214.756364 \r\nL 358.7131 214.756364 \r\nL 360.0523 213.841212 \r\nL 361.3915 214.756364 \r\nL 369.4267 214.756364 \r\nL 369.4267 214.756364 \r\n\" style=\"fill:none;stroke:#1f77b4;stroke-linecap:square;stroke-width:1.5;\"/>\r\n   </g>\r\n   <g id=\"patch_3\">\r\n    <path d=\"M 33.2875 224.64 \r\nL 33.2875 7.2 \r\n\" style=\"fill:none;stroke:#000000;stroke-linecap:square;stroke-linejoin:miter;stroke-width:0.8;\"/>\r\n   </g>\r\n   <g id=\"patch_4\">\r\n    <path d=\"M 368.0875 224.64 \r\nL 368.0875 7.2 \r\n\" style=\"fill:none;stroke:#000000;stroke-linecap:square;stroke-linejoin:miter;stroke-width:0.8;\"/>\r\n   </g>\r\n   <g id=\"patch_5\">\r\n    <path d=\"M 33.2875 224.64 \r\nL 368.0875 224.64 \r\n\" style=\"fill:none;stroke:#000000;stroke-linecap:square;stroke-linejoin:miter;stroke-width:0.8;\"/>\r\n   </g>\r\n   <g id=\"patch_6\">\r\n    <path d=\"M 33.2875 7.2 \r\nL 368.0875 7.2 \r\n\" style=\"fill:none;stroke:#000000;stroke-linecap:square;stroke-linejoin:miter;stroke-width:0.8;\"/>\r\n   </g>\r\n  </g>\r\n </g>\r\n <defs>\r\n  <clipPath id=\"p71d57deb75\">\r\n   <rect height=\"217.44\" width=\"334.8\" x=\"33.2875\" y=\"7.2\"/>\r\n  </clipPath>\r\n </defs>\r\n</svg>\r\n",
      "image/png": "[encoded data removed]"
     },
     "metadata": {
      "needs_background": "light"
     }
    }
   ],
   "source": [
    "plt.plot(count)\n",
    "plt.xlim((0,250))\n",
    "plt.show() # phân bố độ dài các câu"
   ]
  },
  {
   "cell_type": "code",
   "execution_count": 13,
   "metadata": {},
   "outputs": [],
   "source": [
    "normalized_len = 150 # đa số câu đều < 150, chuẩn hóa độ dài câu về 150"
   ]
  },
  {
   "cell_type": "code",
   "execution_count": 14,
   "metadata": {},
   "outputs": [],
   "source": [
    "def normalize_length(sentences, seq_length):\n",
    "    features = np.zeros((len(sentences), seq_length), dtype=int)\n",
    "    \n",
    "    for i, review in enumerate(sentences):\n",
    "        review_len = len(review)\n",
    "        \n",
    "        if review_len <= seq_length: # ngắn hơn seq_length -> chèn thêm 0 vào đầu\n",
    "            zeroes = list(np.zeros(seq_length-review_len))\n",
    "            new = zeroes+review\n",
    "        elif review_len > seq_length: # dài hơn -> chỉ lấy <seq_length> số đầu tiên\n",
    "            new = review[0:seq_length]\n",
    "        \n",
    "        features[i] = np.array(new)\n",
    "    return features"
   ]
  },
  {
   "cell_type": "code",
   "execution_count": 15,
   "metadata": {},
   "outputs": [],
   "source": [
    "train_set_vct_normalized = normalize_length(train_set_vct, normalized_len)"
   ]
  },
  {
   "cell_type": "code",
   "execution_count": 16,
   "metadata": {},
   "outputs": [],
   "source": [
    "labels = np.ones(len(train_set_vct_normalized))\n",
    "labels[:1700] = -1 # negative\n",
    "labels[1700:3400] = 0 # neural"
   ]
  },
  {
   "cell_type": "code",
   "execution_count": 37,
   "metadata": {},
   "outputs": [],
   "source": [
    "class TokenizedWords(torch.utils.data.Dataset):\n",
    "    def __init__(self, train_set_vct_normalized, labels):\n",
    "        self.train_set_vct_normalized = train_set_vct_normalized\n",
    "        self.labels = labels\n",
    "    \n",
    "    def __len__(self):\n",
    "        return len(self.train_set_vct_normalized)\n",
    "\n",
    "    def __getitem__(self, idx):\n",
    "        item = torch.from_numpy(self.train_set_vct_normalized[idx])\n",
    "        label = torch.tensor(self.labels[idx])\n",
    "\n",
    "        return item, label\n"
   ]
  },
  {
   "cell_type": "code",
   "execution_count": 38,
   "metadata": {},
   "outputs": [],
   "source": [
    "train_data = TokenizedWords(train_set_vct_normalized, labels)"
   ]
  },
  {
   "cell_type": "code",
   "execution_count": 39,
   "metadata": {},
   "outputs": [],
   "source": [
    "train_loader = DataLoader(train_data, shuffle=True, batch_size=100)"
   ]
  },
  {
   "cell_type": "code",
   "execution_count": 40,
   "metadata": {},
   "outputs": [
    {
     "output_type": "stream",
     "name": "stdout",
     "text": [
      "tensor([[   0,    0,    0,  ..., 2656,  152,    0],\n        [   0,    0,    0,  ...,   93,  506,    0],\n        [   0,    0,    0,  ...,  121,    0,    0],\n        ...,\n        [   0,    0,    0,  ..., 4233, 4234,    0],\n        [   0,    0,    0,  ...,   36,  155,  302],\n        [   0,    0,    0,  ...,   14, 1481,  278]], dtype=torch.int32) tensor([ 1.,  0.,  0.,  0.,  0.,  0.,  0., -1.,  0.,  1.,  1.,  1.,  1.,  1.,\n         0., -1.,  0., -1., -1., -1.,  1., -1.,  0.,  1.,  0., -1., -1., -1.,\n        -1., -1., -1.,  1.,  1.,  1., -1.,  1.,  1.,  0.,  0.,  0., -1.,  0.,\n         0.,  1., -1.,  1.,  1., -1.,  0.,  0.,  1., -1.,  0., -1., -1.,  1.,\n        -1., -1., -1.,  0.,  1.,  0., -1.,  1.,  1.,  1., -1.,  0.,  1., -1.,\n        -1.,  1.,  1.,  1., -1.,  1.,  1., -1.,  0.,  1.,  0., -1.,  1.,  1.,\n        -1.,  0.,  0., -1.,  1.,  0., -1.,  0.,  0., -1.,  0.,  0.,  0., -1.,\n         0.,  1.], dtype=torch.float64)\n"
     ]
    }
   ],
   "source": [
    "itr = iter(train_loader)\n",
    "sentences, ground_truth = next(itr)\n",
    "print(sentences, ground_truth)"
   ]
  },
  {
   "cell_type": "code",
   "execution_count": 45,
   "metadata": {},
   "outputs": [],
   "source": [
    "class SentimentNet(nn.Module):\n",
    "    def __init__(self, vocab_size, output_size, embedding_dim, hidden_dim, n_layers, drop_prob=0.5):\n",
    "        super(SentimentNet, self).__init__()\n",
    "        self.output_size = output_size\n",
    "        self.n_layers = n_layers\n",
    "        self.hidden_dim = hidden_dim\n",
    "        \n",
    "        self.embedding = nn.Embedding(vocab_size, embedding_dim)\n",
    "        self.lstm = nn.LSTM(embedding_dim, hidden_dim, n_layers, dropout=drop_prob, batch_first=True)\n",
    "        self.dropout = nn.Dropout(drop_prob)\n",
    "        self.fc = nn.Linear(hidden_dim, output_size)\n",
    "        self.sigmoid = nn.Sigmoid()\n",
    "        \n",
    "    def forward(self, x, hidden):\n",
    "        batch_size = x.size(0)\n",
    "        x = x.long()\n",
    "        embeds = self.embedding(x)\n",
    "        lstm_out, hidden = self.lstm(embeds, hidden)\n",
    "        lstm_out = lstm_out.contiguous().view(-1, self.hidden_dim)\n",
    "        \n",
    "        out = self.dropout(lstm_out)\n",
    "        out = self.fc(out)\n",
    "        out = self.sigmoid(out)\n",
    "        \n",
    "        out = out.view(batch_size, -1)\n",
    "        out = out[:,-1]\n",
    "        return out, hidden\n",
    "    \n",
    "    def init_hidden(self, batch_size):\n",
    "        weight = next(self.parameters()).data\n",
    "        hidden = (weight.new(self.n_layers, batch_size, self.hidden_dim).zero_(),\n",
    "                      weight.new(self.n_layers, batch_size, self.hidden_dim).zero_())\n",
    "        return hidden"
   ]
  },
  {
   "cell_type": "code",
   "execution_count": 46,
   "metadata": {},
   "outputs": [
    {
     "output_type": "stream",
     "name": "stdout",
     "text": [
      "SentimentNet(\n  (embedding): Embedding(8933, 64)\n  (lstm): LSTM(64, 256, num_layers=2, batch_first=True, dropout=0.5)\n  (dropout): Dropout(p=0.5, inplace=False)\n  (fc): Linear(in_features=256, out_features=1, bias=True)\n  (sigmoid): Sigmoid()\n)\n"
     ]
    }
   ],
   "source": [
    "no_layers = 2\n",
    "vocab_size = len(vocab) + 1 #extra 1 for padding\n",
    "embedding_dim = 64\n",
    "output_dim = 1\n",
    "hidden_dim = 256\n",
    "model = SentimentNet(vocab_size, output_dim, embedding_dim, hidden_dim, no_layers)\n",
    "print(model)"
   ]
  },
  {
   "cell_type": "code",
   "execution_count": 47,
   "metadata": {},
   "outputs": [],
   "source": [
    "batch_size = 100\n",
    "h = model.init_hidden(batch_size)\n",
    "h = tuple([e.data for e in h])\n",
    "out, h = model(sentences, h)"
   ]
  },
  {
   "cell_type": "code",
   "execution_count": 50,
   "metadata": {},
   "outputs": [
    {
     "output_type": "execute_result",
     "data": {
      "text/plain": [
       "tensor([0.5055, 0.4945, 0.4978, 0.4993, 0.5028, 0.4876, 0.4974, 0.5024, 0.5065,\n",
       "        0.4948, 0.4816, 0.4847, 0.4988, 0.4960, 0.4933, 0.4900, 0.4899, 0.4876,\n",
       "        0.5112, 0.4974, 0.5005, 0.4932, 0.4963, 0.5030, 0.4986, 0.4924, 0.4985,\n",
       "        0.4989, 0.4957, 0.4934, 0.4903, 0.4951, 0.4856, 0.4936, 0.4923, 0.4870,\n",
       "        0.4932, 0.4933, 0.4950, 0.4897, 0.4820, 0.4916, 0.4916, 0.4874, 0.4849,\n",
       "        0.4927, 0.4993, 0.5064, 0.5048, 0.4978, 0.5025, 0.4870, 0.4961, 0.5046,\n",
       "        0.4932, 0.5009, 0.4981, 0.4923, 0.4889, 0.4900, 0.5022, 0.4985, 0.5003,\n",
       "        0.4899, 0.5062, 0.5055, 0.5020, 0.4941, 0.4936, 0.5017, 0.4958, 0.4979,\n",
       "        0.4902, 0.5004, 0.4922, 0.4945, 0.4992, 0.4910, 0.4985, 0.4926, 0.5076,\n",
       "        0.4946, 0.4847, 0.4946, 0.4928, 0.4929, 0.4961, 0.5014, 0.4932, 0.4946,\n",
       "        0.4848, 0.4965, 0.4984, 0.4862, 0.4941, 0.4973, 0.4949, 0.4897, 0.4944,\n",
       "        0.5012], grad_fn=<SelectBackward>)"
      ]
     },
     "metadata": {},
     "execution_count": 50
    }
   ],
   "source": [
    "out"
   ]
  },
  {
   "cell_type": "code",
   "execution_count": 51,
   "metadata": {},
   "outputs": [
    {
     "output_type": "execute_result",
     "data": {
      "text/plain": [
       "torch.Size([100])"
      ]
     },
     "metadata": {},
     "execution_count": 51
    }
   ],
   "source": [
    "out.shape"
   ]
  },
  {
   "cell_type": "code",
   "execution_count": null,
   "metadata": {},
   "outputs": [],
   "source": []
  }
 ]
}